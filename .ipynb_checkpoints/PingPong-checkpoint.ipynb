{
 "cells": [
  {
   "cell_type": "code",
   "execution_count": 77,
   "metadata": {},
   "outputs": [],
   "source": [
    "#!pip install pygame"
   ]
  },
  {
   "cell_type": "code",
   "execution_count": 82,
   "metadata": {},
   "outputs": [],
   "source": [
    "import pygame\n",
    "from ball import Ball\n",
    "from cart import Cart\n",
    "from agent import Agent"
   ]
  },
  {
   "cell_type": "code",
   "execution_count": 83,
   "metadata": {},
   "outputs": [],
   "source": [
    "# Функция получения текущей ситуации на игровом поле\n",
    "def get_obs(cart_1, cart_2, ball):\n",
    "    return (cart_1.position, cart_2.position, ball.position, ball.direction)"
   ]
  },
  {
   "cell_type": "code",
   "execution_count": 84,
   "metadata": {},
   "outputs": [],
   "source": [
    "#Автоигра\n",
    "def auto_move(ball, cart):\n",
    "    cart.position[1] = ball.position[1] - ball.radius"
   ]
  },
  {
   "cell_type": "code",
   "execution_count": 85,
   "metadata": {},
   "outputs": [
    {
     "ename": "NameError",
     "evalue": "name 'pygame' is not defined",
     "output_type": "error",
     "traceback": [
      "\u001b[1;31m---------------------------------------------------------------------------\u001b[0m",
      "\u001b[1;31mNameError\u001b[0m                                 Traceback (most recent call last)",
      "\u001b[1;32m<ipython-input-85-0af81b017ea7>\u001b[0m in \u001b[0;36m<module>\u001b[1;34m\u001b[0m\n\u001b[0;32m     14\u001b[0m \u001b[1;33m\u001b[0m\u001b[0m\n\u001b[0;32m     15\u001b[0m \u001b[1;31m#Рисую мяч и тележки\u001b[0m\u001b[1;33m\u001b[0m\u001b[1;33m\u001b[0m\u001b[1;33m\u001b[0m\u001b[0m\n\u001b[1;32m---> 16\u001b[1;33m \u001b[0mcart_1\u001b[0m\u001b[1;33m.\u001b[0m\u001b[0mdraw\u001b[0m\u001b[1;33m(\u001b[0m\u001b[1;33m)\u001b[0m\u001b[1;33m\u001b[0m\u001b[1;33m\u001b[0m\u001b[0m\n\u001b[0m\u001b[0;32m     17\u001b[0m \u001b[0mcart_2\u001b[0m\u001b[1;33m.\u001b[0m\u001b[0mdraw\u001b[0m\u001b[1;33m(\u001b[0m\u001b[1;33m)\u001b[0m\u001b[1;33m\u001b[0m\u001b[1;33m\u001b[0m\u001b[0m\n\u001b[0;32m     18\u001b[0m \u001b[0mball\u001b[0m\u001b[1;33m.\u001b[0m\u001b[0mdraw\u001b[0m\u001b[1;33m(\u001b[0m\u001b[1;33m)\u001b[0m\u001b[1;33m\u001b[0m\u001b[1;33m\u001b[0m\u001b[0m\n",
      "\u001b[1;32m~\\OneDrive\\Документы\\GitHub\\PingPong\\cart.py\u001b[0m in \u001b[0;36mdraw\u001b[1;34m(self)\u001b[0m\n\u001b[0;32m     15\u001b[0m         \u001b[0mself\u001b[0m\u001b[1;33m.\u001b[0m\u001b[0mcolor\u001b[0m \u001b[1;33m=\u001b[0m \u001b[1;33m(\u001b[0m\u001b[1;36m0\u001b[0m\u001b[1;33m,\u001b[0m\u001b[1;36m255\u001b[0m\u001b[1;33m,\u001b[0m\u001b[1;36m0\u001b[0m\u001b[1;33m)\u001b[0m\u001b[1;33m\u001b[0m\u001b[1;33m\u001b[0m\u001b[0m\n\u001b[0;32m     16\u001b[0m \u001b[1;33m\u001b[0m\u001b[0m\n\u001b[1;32m---> 17\u001b[1;33m     \u001b[1;32mdef\u001b[0m \u001b[0mdraw\u001b[0m\u001b[1;33m(\u001b[0m\u001b[0mself\u001b[0m\u001b[1;33m)\u001b[0m\u001b[1;33m:\u001b[0m\u001b[1;33m\u001b[0m\u001b[1;33m\u001b[0m\u001b[0m\n\u001b[0m\u001b[0;32m     18\u001b[0m         pygame.draw.rect(self.surface, \n\u001b[0;32m     19\u001b[0m                          \u001b[0mself\u001b[0m\u001b[1;33m.\u001b[0m\u001b[0mcolor\u001b[0m\u001b[1;33m,\u001b[0m\u001b[1;33m\u001b[0m\u001b[1;33m\u001b[0m\u001b[0m\n",
      "\u001b[1;31mNameError\u001b[0m: name 'pygame' is not defined"
     ]
    }
   ],
   "source": [
    "pygame.init()\n",
    "window_size = 500, 500 \n",
    "window = pygame.display.set_mode(window_size)\n",
    "pygame.display.set_caption('Ping Pong')\n",
    "\n",
    "#Создаю тележки\n",
    "cart_1 = Cart(window, [0, 250]) \n",
    "cart_2 = Cart(window, [490, 250])\n",
    "#Создаю мяч\n",
    "ball = Ball(window, [250, 250])\n",
    "\n",
    "#Создаю агента\n",
    "agent = Agent(cart_2)\n",
    "\n",
    "#Рисую мяч и тележки\n",
    "cart_1.draw()\n",
    "cart_2.draw()\n",
    "ball.draw()\n",
    "pygame.display.update()"
   ]
  },
  {
   "cell_type": "code",
   "execution_count": 86,
   "metadata": {},
   "outputs": [],
   "source": [
    "def game_cicle():\n",
    "    game = True\n",
    "    #Цикл игры\n",
    "    while game:\n",
    "        #Чтобы не так быстро\n",
    "        pygame.time.delay(10)\n",
    "        #Обработка событий\n",
    "        for event in pygame.event.get():\n",
    "            #Выход\n",
    "            if event.type == pygame.QUIT:\n",
    "                game = False\n",
    "                pygame.quit()\n",
    "\n",
    "        #Какие кнопки нажаты\n",
    "        keys = pygame.key.get_pressed()\n",
    "        #Если нажата вверх\n",
    "        if keys[pygame.K_UP]:\n",
    "            #Проверка на выход за границы\n",
    "            if (cart_1.position[1] >= 0): \n",
    "                cart_1.position[1] = cart_1.position[1] - cart_1.velocity\n",
    "        #Если нажата вниз\n",
    "        if keys[pygame.K_DOWN]:\n",
    "            #Проверка на выход за границы\n",
    "            if cart_1.position[1] <= window_size[1] - cart_1.size[1]:\n",
    "                cart_1.position[1] = cart_1.position[1] + cart_1.velocity\n",
    "        #Если нажата W\n",
    "        if keys[pygame.K_w]:\n",
    "            #Проверка на выход за границы\n",
    "            if (cart_2.position[1] >= 0): \n",
    "                cart_2.position[1] = cart_2.position[1] - cart_2.velocity\n",
    "        #Если нажата S\n",
    "        if keys[pygame.K_s]:\n",
    "            #Проверка на выход за границы\n",
    "            if cart_2.position[1] <= window_size[1] - cart_2.size[1]:\n",
    "                cart_2.position[1] = cart_2.position[1] + cart_2.velocity\n",
    "        if keys[pygame.K_ESCAPE]:\n",
    "                game = False\n",
    "                pygame.quit()\n",
    "        \n",
    "        \n",
    "        #Если шар касается тележки #Поменяй шар на квадрат, иначе придется тут переписать      \n",
    "        if (cart_2.position[0] - ball.position[0] - ball.radius <= 0 and abs(cart_2.position[1] - ball.position[1]) < cart_2.size[1] or\n",
    "           cart_1.position[0] + cart_1.size[0] - ball.position[0] + ball.radius >= 0 and abs(cart_1.position[1] - ball.position[1]) < cart_2.size[1]):\n",
    "            ball.velocity_x = -1 * ball.velocity_x\n",
    "\n",
    "        #Отражение\n",
    "        if (ball.position[1] - ball.radius <= 0 or \n",
    "            ball.position[1] + ball.radius >= window_size[1]):\n",
    "            # изменить направление скорости по y\n",
    "            ball.velocity_y = -1 * ball.velocity_y \n",
    "        \n",
    "        \n",
    "        #Если шар касается сторон экрана для завершения\n",
    "        if (ball.position[0] <= 0 or \n",
    "            ball.position[0] >= window_size[0]):\n",
    "            # изменить направление скорости по y\n",
    "            ball.velocity_y = -1 * ball.velocity_y \n",
    "            game = False\n",
    "\n",
    "        #Это чисто для отладки\n",
    "        #if (ball.position[0] + ball.radius >= window_size[0]):\n",
    "            # изменить направление скорости по x\n",
    "            #ball.velocity_x = -1 * ball.velocity_x\n",
    "            #game = False\n",
    "\n",
    "\n",
    "        #Переместить шар\n",
    "        ball.position[0] += ball.velocity_x\n",
    "        ball.position[1] += ball.velocity_y \n",
    "\n",
    "        #auto_move(ball, cart_2)\n",
    "        #agent.autoplay()\n",
    "\n",
    "        #Очистка экрана\n",
    "        window.fill((0,0,0))\n",
    "        #Заново рисуем тележку\n",
    "        cart_1.draw()   \n",
    "        cart_2.draw()\n",
    "\n",
    "        #Заново рисуем шар\n",
    "        ball.draw()\n",
    "        #Обновляем экран\n",
    "        pygame.display.update()"
   ]
  },
  {
   "cell_type": "code",
   "execution_count": null,
   "metadata": {},
   "outputs": [],
   "source": [
    "while True:\n",
    "    game_cicle()\n",
    "    cart_1.setPosition([0, 250])    \n",
    "    cart_2.setPosition([490, 250])\n",
    "    ball.setPosition([250,250])\n",
    "pygame.quit()"
   ]
  },
  {
   "cell_type": "code",
   "execution_count": null,
   "metadata": {},
   "outputs": [],
   "source": []
  }
 ],
 "metadata": {
  "kernelspec": {
   "display_name": "Python 3",
   "language": "python",
   "name": "python3"
  }
 },
 "nbformat": 4,
 "nbformat_minor": 2
}
