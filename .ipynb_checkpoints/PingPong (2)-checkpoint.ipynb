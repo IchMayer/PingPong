{
 "cells": [
  {
   "cell_type": "code",
   "execution_count": 1,
   "metadata": {},
   "outputs": [],
   "source": [
    "#!pip install pygame"
   ]
  },
  {
   "cell_type": "code",
   "execution_count": 2,
   "metadata": {},
   "outputs": [
    {
     "name": "stdout",
     "output_type": "stream",
     "text": [
      "pygame 1.9.6\n",
      "Hello from the pygame community. https://www.pygame.org/contribute.html\n"
     ]
    }
   ],
   "source": [
    "import pygame\n",
    "import random"
   ]
  },
  {
   "cell_type": "code",
   "execution_count": 3,
   "metadata": {},
   "outputs": [],
   "source": [
    "#Класс мяча\n",
    "class Ball:\n",
    "    def __init__(self, surface, position):\n",
    "        self.velocity_x = 1 \n",
    "        self.velocity_y = 1 \n",
    "        self.radius = 20 \n",
    "        self.position = position\n",
    "        self.surface = surface\n",
    "        self.color = (255,0,0) #Красный\n",
    "\n",
    "    def draw(self):  \n",
    "        pygame.draw.circle(self.surface, \n",
    "                           self.color, \n",
    "                           self.position, \n",
    "                           self.radius)\n",
    "\n",
    "    def setPosition(self, position):\n",
    "        self.position = position\n",
    "        self.velocity_x = 1 \n",
    "        self.velocity_y = 1 \n",
    "\n",
    "   #def get_dir():\n",
    "    \n",
    "   # def first_move():\n",
    "       # import random\n",
    "        #choice = [-1, 0, 1]"
   ]
  },
  {
   "cell_type": "code",
   "execution_count": 4,
   "metadata": {},
   "outputs": [],
   "source": [
    "#Класс тележки\n",
    "class Cart:\n",
    "    def __init__(self, surface, position):\n",
    "        self.velocity = 5 \n",
    "        self.size = [10, 50] \n",
    "        self.position = position\n",
    "        self.surface = surface\n",
    "        self.color = (0,255,0) \n",
    "    \n",
    "    def draw(self): \n",
    "        pygame.draw.rect(self.surface, \n",
    "                         self.color, \n",
    "                         pygame.Rect(self.position[0],  \n",
    "                                     self.position[1], \n",
    "                                     self.size[0], \n",
    "                                     self.size[1]))\n",
    "    def setPosition(self, position):\n",
    "        self.position = position\n"
   ]
  },
  {
   "cell_type": "code",
   "execution_count": 5,
   "metadata": {},
   "outputs": [],
   "source": [
    "# Функция получения текущей ситуации на игровом поле\n",
    "def get_obs(cart_1, cart_2, ball):\n",
    "    return (cart_1.position, cart_2.position, ball.position, ball.direction)"
   ]
  },
  {
   "cell_type": "code",
   "execution_count": 6,
   "metadata": {},
   "outputs": [],
   "source": [
    "pygame.init()\n",
    "window_size = 500, 500 \n",
    "window = pygame.display.set_mode(window_size)\n",
    "pygame.display.set_caption('Ping Pong')\n",
    "\n",
    "#Создаю тележки\n",
    "cart_1 = Cart(window, [0, 250]) \n",
    "cart_2 = Cart(window, [490, 250])\n",
    "#Создаю мяч\n",
    "ball = Ball(window, [250, 250])\n",
    "#Случайный сдвиг\n",
    "x_move = random.choice([-1,1])\n",
    "y_move = random.choice([-1,1])\n",
    "ball.position[0] += x_move\n",
    "ball.position[1] += y_move\n",
    "ball.velocity_x *= x_move\n",
    "ball.velocity_x *= x_move\n",
    "#Рисую мяч и тележки\n",
    "cart_1.draw()\n",
    "cart_2.draw()\n",
    "ball.draw()\n",
    "pygame.display.update()"
   ]
  },
  {
   "cell_type": "code",
   "execution_count": 7,
   "metadata": {},
   "outputs": [],
   "source": [
    "def game_cicle():\n",
    "    game = True\n",
    "    #Цикл игры\n",
    "    while game:\n",
    "        #Чтобы не так быстро\n",
    "        pygame.time.delay(10)\n",
    "        #Обработка событий\n",
    "        for event in pygame.event.get():\n",
    "            #Выход\n",
    "            if event.type == pygame.QUIT:\n",
    "                game = False\n",
    "                pygame.quit()\n",
    "\n",
    "        #Какие кнопки нажаты\n",
    "        keys = pygame.key.get_pressed()\n",
    "        #Если нажата вверх\n",
    "        if keys[pygame.K_UP]:\n",
    "            #Проверка на выход за границы\n",
    "            if (cart_1.position[1] >= 0): \n",
    "                cart_1.position[1] = cart_1.position[1] - cart_1.velocity\n",
    "        #Если нажата вниз\n",
    "        if keys[pygame.K_DOWN]:\n",
    "            #Проверка на выход за границы\n",
    "            if cart_1.position[1] <= window_size[1] - cart_1.size[1]:\n",
    "                cart_1.position[1] = cart_1.position[1] + cart_1.velocity\n",
    "        #Если нажата W\n",
    "        if keys[pygame.K_w]:\n",
    "            #Проверка на выход за границы\n",
    "            if (cart_2.position[1] >= 0): \n",
    "                cart_2.position[1] = cart_2.position[1] - cart_2.velocity\n",
    "        #Если нажата S\n",
    "        if keys[pygame.K_s]:\n",
    "            #Проверка на выход за границы\n",
    "            if cart_2.position[1] <= window_size[1] - cart_2.size[1]:\n",
    "                cart_2.position[1] = cart_2.position[1] + cart_2.velocity\n",
    "\n",
    "        #Если шар касается тележки #Поменяй шар на квадрат, иначе придется тут переписать\n",
    "        ## Изменения !!        \n",
    "        if(ball.position[0] > cart_1.position[0] and ball.position[1] in set(range(cart_1.position[1], cart_1.position[1] + cart_1.size[1]))):\n",
    "            if (ball.position[0] - cart_1.position[0] <= 25):\n",
    "                ball.velocity_x = -1 * ball.velocity_x\n",
    "                ball.velocity_y = -1 * ball.velocity_y\n",
    "                \n",
    "        if (ball.position[0] < cart_2.position[0] and ball.position[1] in set(range(cart_2.position[1], cart_2.position[1] + cart_2.size[1]))):\n",
    "            if (cart_2.position[0] - ball.position[0] <= 25 ):\n",
    "                ball.velocity_x = -1 * ball.velocity_x\n",
    "                ball.velocity_y = -1 * ball.velocity_y\n",
    "        ##!!           \n",
    "        #if (ball.position[0] in set(range(cart_1.position[0] + cart_1.size[0])) and \n",
    "         #   ball.position[1] >= cart_1.position[1] + cart_1.size[0] and\n",
    "         #   ball.position[1] <= cart_1.position[1] + cart_1.size[1]):\n",
    "            #Изменить направление скорости по x и y\n",
    "         #   ball.velocity_x = -1 * ball.velocity_x\n",
    "         #  ball.velocity_y = -1 * ball.velocity_y\n",
    "\n",
    "        #Если шар касается сторон экрана\n",
    "        if (ball.position[0] == 0 or \n",
    "            ball.position[0] + ball.radius == window_size[0]):\n",
    "            # изменить направление скорости по y\n",
    "            ball.velocity_y = -1 * ball.velocity_y \n",
    "            game = False\n",
    "\n",
    "        #Это чисто для отладки\n",
    "        if (ball.position[0] + ball.radius >= window_size[0]):\n",
    "            # изменить направление скорости по x\n",
    "            ball.velocity_x = -1 * ball.velocity_x\n",
    "            game = False\n",
    "\n",
    "\n",
    "        #Переместить шар\n",
    "        ball.position[0] += ball.velocity_x\n",
    "        ball.position[1] += ball.velocity_y \n",
    "\n",
    "\n",
    "        #Очистка экрана\n",
    "        window.fill((0,0,0))\n",
    "        #Заново рисуем тележку\n",
    "        cart_1.draw()   \n",
    "        cart_2.draw()\n",
    "\n",
    "        #Заново рисуем шар\n",
    "        ball.draw()\n",
    "        #Обновляем экран\n",
    "        pygame.display.update()"
   ]
  },
  {
   "cell_type": "code",
   "execution_count": 8,
   "metadata": {},
   "outputs": [
    {
     "ename": "error",
     "evalue": "video system not initialized",
     "output_type": "error",
     "traceback": [
      "\u001b[1;31m---------------------------------------------------------------------------\u001b[0m",
      "\u001b[1;31merror\u001b[0m                                     Traceback (most recent call last)",
      "\u001b[1;32m<ipython-input-8-63a17b20165b>\u001b[0m in \u001b[0;36m<module>\u001b[1;34m\u001b[0m\n\u001b[0;32m      1\u001b[0m \u001b[1;32mwhile\u001b[0m \u001b[1;32mTrue\u001b[0m\u001b[1;33m:\u001b[0m\u001b[1;33m\u001b[0m\u001b[1;33m\u001b[0m\u001b[0m\n\u001b[1;32m----> 2\u001b[1;33m     \u001b[0mgame_cicle\u001b[0m\u001b[1;33m(\u001b[0m\u001b[1;33m)\u001b[0m\u001b[1;33m\u001b[0m\u001b[1;33m\u001b[0m\u001b[0m\n\u001b[0m\u001b[0;32m      3\u001b[0m     \u001b[0mcart_1\u001b[0m\u001b[1;33m.\u001b[0m\u001b[0msetPosition\u001b[0m\u001b[1;33m(\u001b[0m\u001b[1;33m[\u001b[0m\u001b[1;36m0\u001b[0m\u001b[1;33m,\u001b[0m \u001b[1;36m250\u001b[0m\u001b[1;33m]\u001b[0m\u001b[1;33m)\u001b[0m\u001b[1;33m\u001b[0m\u001b[1;33m\u001b[0m\u001b[0m\n\u001b[0;32m      4\u001b[0m     \u001b[0mcart_2\u001b[0m\u001b[1;33m.\u001b[0m\u001b[0msetPosition\u001b[0m\u001b[1;33m(\u001b[0m\u001b[1;33m[\u001b[0m\u001b[1;36m490\u001b[0m\u001b[1;33m,\u001b[0m \u001b[1;36m250\u001b[0m\u001b[1;33m]\u001b[0m\u001b[1;33m)\u001b[0m\u001b[1;33m\u001b[0m\u001b[1;33m\u001b[0m\u001b[0m\n\u001b[0;32m      5\u001b[0m     \u001b[0mball\u001b[0m\u001b[1;33m.\u001b[0m\u001b[0msetPosition\u001b[0m\u001b[1;33m(\u001b[0m\u001b[1;33m[\u001b[0m\u001b[1;36m250\u001b[0m\u001b[1;33m,\u001b[0m\u001b[1;36m250\u001b[0m\u001b[1;33m]\u001b[0m\u001b[1;33m)\u001b[0m\u001b[1;33m\u001b[0m\u001b[1;33m\u001b[0m\u001b[0m\n",
      "\u001b[1;32m<ipython-input-7-008fca8983f9>\u001b[0m in \u001b[0;36mgame_cicle\u001b[1;34m()\u001b[0m\n\u001b[0;32m     13\u001b[0m \u001b[1;33m\u001b[0m\u001b[0m\n\u001b[0;32m     14\u001b[0m         \u001b[1;31m#Какие кнопки нажаты\u001b[0m\u001b[1;33m\u001b[0m\u001b[1;33m\u001b[0m\u001b[1;33m\u001b[0m\u001b[0m\n\u001b[1;32m---> 15\u001b[1;33m         \u001b[0mkeys\u001b[0m \u001b[1;33m=\u001b[0m \u001b[0mpygame\u001b[0m\u001b[1;33m.\u001b[0m\u001b[0mkey\u001b[0m\u001b[1;33m.\u001b[0m\u001b[0mget_pressed\u001b[0m\u001b[1;33m(\u001b[0m\u001b[1;33m)\u001b[0m\u001b[1;33m\u001b[0m\u001b[1;33m\u001b[0m\u001b[0m\n\u001b[0m\u001b[0;32m     16\u001b[0m         \u001b[1;31m#Если нажата вверх\u001b[0m\u001b[1;33m\u001b[0m\u001b[1;33m\u001b[0m\u001b[1;33m\u001b[0m\u001b[0m\n\u001b[0;32m     17\u001b[0m         \u001b[1;32mif\u001b[0m \u001b[0mkeys\u001b[0m\u001b[1;33m[\u001b[0m\u001b[0mpygame\u001b[0m\u001b[1;33m.\u001b[0m\u001b[0mK_UP\u001b[0m\u001b[1;33m]\u001b[0m\u001b[1;33m:\u001b[0m\u001b[1;33m\u001b[0m\u001b[1;33m\u001b[0m\u001b[0m\n",
      "\u001b[1;31merror\u001b[0m: video system not initialized"
     ]
    }
   ],
   "source": [
    "while True:\n",
    "    game_cicle()\n",
    "    cart_1.setPosition([0, 250])    \n",
    "    cart_2.setPosition([490, 250])\n",
    "    ball.setPosition([250,250])\n",
    "pygame.quit()"
   ]
  },
  {
   "cell_type": "code",
   "execution_count": null,
   "metadata": {},
   "outputs": [],
   "source": []
  }
 ],
 "metadata": {
  "kernelspec": {
   "display_name": "Python 3",
   "language": "python",
   "name": "python3"
  },
  "language_info": {
   "codemirror_mode": {
    "name": "ipython",
    "version": 3
   },
   "file_extension": ".py",
   "mimetype": "text/x-python",
   "name": "python",
   "nbconvert_exporter": "python",
   "pygments_lexer": "ipython3",
   "version": "3.7.1"
  }
 },
 "nbformat": 4,
 "nbformat_minor": 2
}
